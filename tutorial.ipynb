{
 "cells": [
  {
   "cell_type": "markdown",
   "metadata": {
    "slideshow": {
     "slide_type": "slide"
    }
   },
   "source": [
    "# Pandas and plots for data analysis\n",
    "\n",
    "## Abhijit Dasgupta, PhD<br/>District Data Labs"
   ]
  },
  {
   "cell_type": "markdown",
   "metadata": {
    "slideshow": {
     "slide_type": "slide"
    }
   },
   "source": [
    "# Tools\n",
    "\n",
    "+ Anaconda Python Distribution\n",
    "    - pandas (version 0.23)\n",
    "    - seaborn (version 0.9)\n",
    "    - scipy\n",
    "    - matplotlib"
   ]
  },
  {
   "cell_type": "markdown",
   "metadata": {
    "slideshow": {
     "slide_type": "slide"
    }
   },
   "source": [
    "# Objectives\n",
    "\n",
    "+ Use `pandas` for data ingestion and munging (50 minutes)\n",
    "    - Reading data from a variety of sources\n",
    "    - Use of `Series` and `DataFrame` objects\n",
    "    - Transforming datasets between wide and long formats\n",
    "    - The \"split-apply-combine\" paradigm\n",
    "    - Computing various data summaries\n",
    "    - Transforming data"
   ]
  },
  {
   "cell_type": "markdown",
   "metadata": {
    "slideshow": {
     "slide_type": "subslide"
    }
   },
   "source": [
    "# Objectives\n",
    "+ Use `matplotlib` and `seaborn` for creating plots useful for data analysis (30 minutes)\n",
    "    - Histograms and density plots\n",
    "    - Bar graphs\n",
    "    - Box and violin plots\n",
    "    - Scatter plots with smoothers\n",
    "    - Trellis graphics/small multiples\n",
    "    - Grouped data"
   ]
  },
  {
   "cell_type": "markdown",
   "metadata": {
    "slideshow": {
     "slide_type": "subslide"
    }
   },
   "source": [
    "# Objectives\n",
    "+ Introduce other `PyData` packages (10 minutes)\n",
    "    - `statsmodels` for statistical modeling\n",
    "    - `scikit-learn` for machine learning\n",
    "    - `scikit-image` for image analysis"
   ]
  }
 ],
 "metadata": {
  "celltoolbar": "Slideshow",
  "kernelspec": {
   "display_name": "Python 3",
   "language": "python",
   "name": "python3"
  },
  "language_info": {
   "codemirror_mode": {
    "name": "ipython",
    "version": 3
   },
   "file_extension": ".py",
   "mimetype": "text/x-python",
   "name": "python",
   "nbconvert_exporter": "python",
   "pygments_lexer": "ipython3",
   "version": "3.7.1"
  },
  "livereveal": {
   "footer": "<h3 style='text-align:center;'>PyData Miami 2019</h3>",
   "slideNumber": false,
   "theme": "serif"
  }
 },
 "nbformat": 4,
 "nbformat_minor": 2
}
